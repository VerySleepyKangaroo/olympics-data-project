{
 "cells": [
  {
   "cell_type": "markdown",
   "id": "52f28ac8",
   "metadata": {},
   "source": [
    "# Design Challenge Point\n",
    "### Pranav Balamurugan\n",
    "\n",
    "## Task 1: Explore Examples of Good Questions\n",
    "\n",
    "- One question about **age**\n",
    "    - What is the average age of a male who is playing basketball?\n",
    "- One about **gender**\n",
    "    - How many male people play badminton compared to the amount of females playing badminton\n",
    "- One about **medals**\n",
    "    - What are the top 5 people with the most gold medals since the 1980s\n",
    "\n",
    "## Task 2: Define Your Project Question\n",
    "\n",
    "- How has the average age of gold medalists in athletics changed across the last five Summer Olympic Games?\n",
    "\n",
    "## Task 3: Write Your Purpose & Audience\n",
    "\n",
    "**Project Title:** Trends in Athletic Champions’ Ages Across Olympics\n",
    "\n",
    "**Purpose Statement:** This project aims to investigate how the average age of gold medalists in athletics events has changed over the past five Summer Olympic Games. By analyzing athlete data by event, year, and age, the study seeks to uncover whether there is a trend toward younger or older champions in Olympic-level athletics. This exploration will also consider potential factors influencing these shifts, such as advancements in sports science, training longevity, and evolving event specialization. The findings may help identify age-related performance patterns and inform future coaching and development strategies.\n",
    "\n",
    "**The Intended Ausdience:** Sports scientists, Olympic coaches and trainers, elite athletes, PE teachers and fans. \n",
    "\n",
    "## Task 4: List Your Functional and Non-Functional Requirements\n",
    "\n",
    "Functional requirements:\n",
    "- Filtering Athelees by:\n",
    "    - Year: Last 5 years\n",
    "    - Sports: Atheletics\n",
    "    - Medal Type: Gold\n",
    "- Group Data by Olympic Year\n",
    "- Calculate the average of gold medalists per year\n",
    "- Create visualisations such as:\n",
    "    - Line chart showing the change in average over the years\n",
    "    - Bar chart to comparing averages per year for different field events"
   ]
  }
 ],
 "metadata": {
  "language_info": {
   "name": "python"
  }
 },
 "nbformat": 4,
 "nbformat_minor": 5
}
